{
 "cells": [
  {
   "cell_type": "code",
   "execution_count": 6,
   "id": "2955d1d7",
   "metadata": {},
   "outputs": [],
   "source": [
    "import pandas as pd"
   ]
  },
  {
   "cell_type": "code",
   "execution_count": 7,
   "id": "37f1ca07",
   "metadata": {},
   "outputs": [],
   "source": [
    "filepath = r\"C:\\Users\\TyHow\\Downloads\\sibelco DH.csv\"\n",
    "df = pd.read_csv(filepath)"
   ]
  },
  {
   "cell_type": "code",
   "execution_count": 8,
   "id": "c40d06f0",
   "metadata": {},
   "outputs": [],
   "source": [
    "sibelco_df = df[\n",
    "    df[\"Current Projects\"]\n",
    "    == \"SIBELCO Pilot Project (https://www.notion.so/SIBELCO-Pilot-Project-13f8a735edd080ef90d4e7b045502973?pvs=21)\"\n",
    "]"
   ]
  },
  {
   "cell_type": "code",
   "execution_count": 11,
   "id": "3de12a86",
   "metadata": {},
   "outputs": [
    {
     "data": {
      "text/plain": [
       "array(['SIBELCO Pilot Project (https://www.notion.so/SIBELCO-Pilot-Project-13f8a735edd080ef90d4e7b045502973?pvs=21)'],\n",
       "      dtype=object)"
      ]
     },
     "execution_count": 11,
     "metadata": {},
     "output_type": "execute_result"
    }
   ],
   "source": [
    "sibelco_df[\"Current Projects\"].unique()"
   ]
  },
  {
   "cell_type": "code",
   "execution_count": 13,
   "id": "f5db5240",
   "metadata": {},
   "outputs": [],
   "source": [
    "outputpath = r\"C:\\Users\\TyHow\\Downloads\\sibelco DH cleaned.csv\"\n",
    "\n",
    "sibelco_df.to_csv(outputpath)"
   ]
  },
  {
   "cell_type": "code",
   "execution_count": null,
   "id": "ef4b03ff",
   "metadata": {},
   "outputs": [],
   "source": []
  }
 ],
 "metadata": {
  "kernelspec": {
   "display_name": "geo_env",
   "language": "python",
   "name": "python3"
  },
  "language_info": {
   "codemirror_mode": {
    "name": "ipython",
    "version": 3
   },
   "file_extension": ".py",
   "mimetype": "text/x-python",
   "name": "python",
   "nbconvert_exporter": "python",
   "pygments_lexer": "ipython3",
   "version": "3.13.2"
  }
 },
 "nbformat": 4,
 "nbformat_minor": 5
}
