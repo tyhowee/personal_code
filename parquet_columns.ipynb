{
 "cells": [
  {
   "cell_type": "code",
   "execution_count": 1,
   "metadata": {},
   "outputs": [],
   "source": [
    "import pandas as pd\n",
    "\n",
    "def print_parquet_columns(file_path):\n",
    "    \"\"\"\n",
    "    Reads a Parquet file and prints out all the feature columns.\n",
    "\n",
    "    Args:\n",
    "        file_path (str): Path to the Parquet file.\n",
    "    \"\"\"\n",
    "    df = pd.read_parquet(file_path)\n",
    "    print(\"Feature Columns:\")\n",
    "    for column in df.columns:\n",
    "        print(column)\n"
   ]
  },
  {
   "cell_type": "code",
   "execution_count": 4,
   "metadata": {},
   "outputs": [
    {
     "name": "stdout",
     "output_type": "stream",
     "text": [
      "Feature Columns:\n",
      "LAT\n",
      "LONG\n",
      "EFFH\n",
      "TOT_COR\n",
      "K_COR\n",
      "U_COR\n",
      "Th_COR\n",
      "geometry\n"
     ]
    }
   ],
   "source": [
    "\n",
    "# Example usage\n",
    "parquet_file = '/Users/thowe/MinersAI Dropbox/Tyler Howe/ICB_data/geospatial_data/cube_dataset/ICB_rad_processed.parquet'\n",
    "print_parquet_columns(parquet_file)"
   ]
  },
  {
   "cell_type": "code",
   "execution_count": null,
   "metadata": {},
   "outputs": [],
   "source": []
  }
 ],
 "metadata": {
  "kernelspec": {
   "display_name": "geo_env",
   "language": "python",
   "name": "python3"
  },
  "language_info": {
   "codemirror_mode": {
    "name": "ipython",
    "version": 3
   },
   "file_extension": ".py",
   "mimetype": "text/x-python",
   "name": "python",
   "nbconvert_exporter": "python",
   "pygments_lexer": "ipython3",
   "version": "3.12.5"
  }
 },
 "nbformat": 4,
 "nbformat_minor": 2
}
